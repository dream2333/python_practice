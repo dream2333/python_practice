{
 "cells": [
  {
   "cell_type": "markdown",
   "metadata": {},
   "source": [
    "1.现在要处理一个大小为10G的文件，但是内存只有4G，如果在只修改get_lines 函数而其他代码保持不变的情况下，应该如何实现？需要考虑的问题都有那些？"
   ]
  },
  {
   "cell_type": "code",
   "execution_count": null,
   "metadata": {},
   "outputs": [],
   "source": [
    "import mmap\n",
    "\n",
    "def test():\n",
    "    with open(\"test.txt\",\"r\") as f:\n",
    "        mm = mmap.mmap(f.fileno(),0,access=mmap.ACCESS_READ)\n",
    "    while mm.tell()<mm.size():\n",
    "        yield mm.readline().decode()\n",
    "    mm.close()\n",
    "\n",
    "def get_lines():\n",
    "    l = []\n",
    "    with open('test.txt','r') as f:\n",
    "      data = f.readlines(1)\n",
    "    l.append(data)\n",
    "    yield l\n",
    "    \n",
    "for i in test():    \n",
    "    print(i)"
   ]
  },
  {
   "cell_type": "markdown",
   "metadata": {},
   "source": [
    "2.设计一个函数，接收文件夹名称作为输入参数，返回文件夹中所有文件夹和文件的路径"
   ]
  },
  {
   "cell_type": "code",
   "execution_count": null,
   "metadata": {},
   "outputs": [],
   "source": [
    "def print_directory_contents(s_path):\n",
    "    \"\"\"\n",
    "    这个函数接收文件夹的名称作为输入参数\n",
    "    返回该文件夹中文件的路径\n",
    "    以及其包含文件夹中文件的路径\n",
    "    \"\"\"\n",
    "    import os\n",
    "    for s_child in os.listdir(s_path):\n",
    "        s_child_path = os.path.join(s_path, s_child)\n",
    "        if os.path.isdir(s_child_path):\n",
    "            print_directory_contents(s_child_path)\n",
    "        else:\n",
    "            print(s_child_path)\n",
    "\n",
    "print_directory_contents(\"..\")"
   ]
  },
  {
   "cell_type": "markdown",
   "metadata": {},
   "source": [
    "3.设计一个函数计算出输入日期是一年中的哪一天"
   ]
  },
  {
   "cell_type": "code",
   "execution_count": null,
   "metadata": {},
   "outputs": [],
   "source": [
    "import datetime\n",
    "\n",
    "year = int(input(\"请输入年份: \"))\n",
    "month = int(input(\"请输入月份: \"))\n",
    "day = int(input(\"请输入天: \"))\n",
    "date1 = datetime.date(year,month,day)\n",
    "date2 = datetime.date(year,1,1)\n",
    "print((date1-date2).days+1)"
   ]
  },
  {
   "cell_type": "markdown",
   "metadata": {},
   "source": [
    "4.打乱list"
   ]
  },
  {
   "cell_type": "code",
   "execution_count": null,
   "metadata": {},
   "outputs": [],
   "source": [
    "from random import shuffle\n",
    "l = [1,2,3,4]\n",
    "shuffle(l)\n",
    "print(l)"
   ]
  },
  {
   "cell_type": "markdown",
   "metadata": {},
   "source": [
    "5.现有字典 d= {'a':24,'g':52,'i':12,'k':33}请按value值进行排序?"
   ]
  },
  {
   "cell_type": "code",
   "execution_count": 1,
   "metadata": {},
   "outputs": [
    {
     "name": "stdout",
     "output_type": "stream",
     "text": [
      "{'i': 12, 'a': 24, 'k': 33, 'g': 52}\n"
     ]
    }
   ],
   "source": [
    "d1= {'a':24,'g':52,'i':12,'k':33}\n",
    "i = sorted(d1.items(),key=lambda x:x[1])\n",
    "d2 = {k:v for k,v in i}\n",
    "print(d2)"
   ]
  },
  {
   "cell_type": "markdown",
   "metadata": {},
   "source": [
    "6.写出一个字典推导式"
   ]
  },
  {
   "cell_type": "code",
   "execution_count": null,
   "metadata": {},
   "outputs": [],
   "source": [
    "d = {k:v for k,v in \"123\"}\n",
    "print(d)"
   ]
  },
  {
   "cell_type": "markdown",
   "metadata": {},
   "source": [
    "7.请反转字符串 \"aStr\""
   ]
  },
  {
   "cell_type": "code",
   "execution_count": null,
   "metadata": {},
   "outputs": [],
   "source": [
    "print('aStr'[::-1])"
   ]
  },
  {
   "cell_type": "markdown",
   "metadata": {},
   "source": [
    "8.将字符串 \"k:1|k1:2|k2:3|k3:4\"，处理成字典 {k:1,k1:2,...}"
   ]
  },
  {
   "cell_type": "code",
   "execution_count": null,
   "metadata": {},
   "outputs": [],
   "source": [
    "_str = \"k:1|k1:2|k2:3|k3:4\"\n",
    "d = {sub.split(':')[0]:sub.split(':')[1] for sub in _str.split('|')}\n",
    "print(d)"
   ]
  },
  {
   "cell_type": "markdown",
   "metadata": {},
   "source": [
    "9.请将alist中元素的age由大到小排序"
   ]
  },
  {
   "cell_type": "code",
   "execution_count": null,
   "metadata": {},
   "outputs": [],
   "source": [
    "alist = [{'name':'a','age':20},{'name':'b','age':30},{'name':'c','age':25}]\n",
    "sorted_alist  = sorted(alist,key=lambda e:e['age'])\n",
    "print(sorted_alist)"
   ]
  },
  {
   "cell_type": "markdown",
   "metadata": {},
   "source": [
    "10.下面代码的输出结果将是什么？"
   ]
  },
  {
   "cell_type": "code",
   "execution_count": null,
   "metadata": {},
   "outputs": [],
   "source": [
    "list = ['a','b','c','d','e']\n",
    "print(list[10:])\n",
    "#输出为[]"
   ]
  },
  {
   "cell_type": "markdown",
   "metadata": {},
   "source": [
    "11.写一个列表生成式，产生一个公差为11的等差数列"
   ]
  },
  {
   "cell_type": "code",
   "execution_count": 10,
   "metadata": {},
   "outputs": [
    {
     "data": {
      "text/plain": [
       "[0, 11, 22, 33, 44, 55, 66, 77, 88, 99]"
      ]
     },
     "execution_count": 10,
     "metadata": {},
     "output_type": "execute_result"
    }
   ],
   "source": [
    "[i*11 for i in range(10)]"
   ]
  },
  {
   "cell_type": "markdown",
   "metadata": {},
   "source": [
    "12.给定两个列表，怎么找出他们相同的元素和不同的元素？"
   ]
  },
  {
   "cell_type": "code",
   "execution_count": 11,
   "metadata": {},
   "outputs": [
    {
     "data": {
      "text/plain": [
       "({1, 2, 3, 4, 5, 6, 7, 8, 9}, {4, 5, 6}, {1, 2, 3, 7, 8, 9})"
      ]
     },
     "execution_count": 11,
     "metadata": {},
     "output_type": "execute_result"
    }
   ],
   "source": [
    "a = [1,2,3,4,5,6]\n",
    "b = [4,5,6,7,8,9]\n",
    "set(a)|set(b),set(a)&set(b),set(b)^set(a)"
   ]
  },
  {
   "cell_type": "markdown",
   "metadata": {},
   "source": [
    "13.请写出一段python代码实现删除list里面的重复元素？"
   ]
  },
  {
   "cell_type": "code",
   "execution_count": 12,
   "metadata": {},
   "outputs": [
    {
     "data": {
      "text/plain": [
       "[1, 2, 3, 4, 5]"
      ]
     },
     "execution_count": 12,
     "metadata": {},
     "output_type": "execute_result"
    }
   ],
   "source": [
    "a = [1,2,3,3,4,4,5]\n",
    "list(set(a))"
   ]
  },
  {
   "cell_type": "markdown",
   "metadata": {},
   "source": [
    "14.给定两个list A，B ,请用找出A，B中相同与不同的元素"
   ]
  },
  {
   "cell_type": "code",
   "execution_count": 13,
   "metadata": {},
   "outputs": [
    {
     "data": {
      "text/plain": [
       "({4, 5, 6}, {1, 2, 3, 7, 8, 9})"
      ]
     },
     "execution_count": 13,
     "metadata": {},
     "output_type": "execute_result"
    }
   ],
   "source": [
    "a = [1,2,3,4,5,6]\n",
    "b = [4,5,6,7,8,9]\n",
    "set(a)&set(b),set(b)^set(a)"
   ]
  },
  {
   "cell_type": "markdown",
   "metadata": {},
   "source": [
    "15.python 新式类和经典类的区别\n"
   ]
  },
  {
   "cell_type": "raw",
   "metadata": {},
   "source": [
    "py3 只有新式类 py2 新式和旧式都有\n",
    "py2 中继承 Object 的为新式类，没继承的不是\n",
    "新式类 obj.**class** == type(obj)\n",
    "多重继承时，新式类是广度优先搜索，旧式类是深度优先搜索"
   ]
  },
  {
   "cell_type": "markdown",
   "metadata": {},
   "source": [
    "16.python 中内置的数据结构有几种\n"
   ]
  },
  {
   "cell_type": "raw",
   "metadata": {},
   "source": [
    "int,float,complex,String,List,Tuple,Set,Dict"
   ]
  },
  {
   "cell_type": "markdown",
   "metadata": {},
   "source": [
    "17.python 如何实现单例模式?请写出两种实现方式?\n"
   ]
  },
  {
   "cell_type": "code",
   "execution_count": 14,
   "metadata": {},
   "outputs": [
    {
     "data": {
      "text/plain": [
       "True"
      ]
     },
     "execution_count": 14,
     "metadata": {},
     "output_type": "execute_result"
    }
   ],
   "source": [
    "def singleton(cls):\n",
    "    instances = {}\n",
    "    def wrapper(*args,**kw):\n",
    "        if cls not in instances:\n",
    "            instances[cls] = cls(*args,**kw)\n",
    "        return instances[cls]\n",
    "    return wrapper\n",
    "\n",
    "@singleton\n",
    "class A:\n",
    "    pass\n",
    "\n",
    "A()==A()"
   ]
  },
  {
   "cell_type": "code",
   "execution_count": 15,
   "metadata": {},
   "outputs": [
    {
     "data": {
      "text/plain": [
       "True"
      ]
     },
     "execution_count": 15,
     "metadata": {},
     "output_type": "execute_result"
    }
   ],
   "source": [
    "class Singleton:\n",
    "    instance = None\n",
    "    def __new__(cls,*args,**kw):\n",
    "        if not cls.instance:\n",
    "            cls.instance = super().__new__(cls,*args,**kw)\n",
    "        return cls.instance\n",
    "\n",
    "class B(Singleton):\n",
    "    pass\n",
    "\n",
    "B()==B()"
   ]
  },
  {
   "cell_type": "code",
   "execution_count": 16,
   "metadata": {},
   "outputs": [
    {
     "data": {
      "text/plain": [
       "True"
      ]
     },
     "execution_count": 16,
     "metadata": {},
     "output_type": "execute_result"
    }
   ],
   "source": [
    "class Singleton(type):\n",
    "    instance = None\n",
    "    def __call__(cls,*args,**kw):\n",
    "        if not cls.instance:\n",
    "            cls.instance = super().__call__(*args,**kw)\n",
    "        return cls.instance\n",
    "    \n",
    "class C(metaclass=Singleton):\n",
    "    pass\n",
    "\n",
    "class D(metaclass=Singleton):\n",
    "    pass\n",
    "\n",
    "D()==D()"
   ]
  },
  {
   "cell_type": "markdown",
   "metadata": {},
   "source": [
    "18.反转一个整数，例如-123 --> -321"
   ]
  },
  {
   "cell_type": "code",
   "execution_count": 16,
   "metadata": {},
   "outputs": [
    {
     "data": {
      "text/plain": [
       "-321"
      ]
     },
     "execution_count": 16,
     "metadata": {},
     "output_type": "execute_result"
    }
   ],
   "source": [
    "def reverse_int(n):\n",
    "    sign = 1 if n>=0 else -1\n",
    "    temp = abs(n)\n",
    "    ret = 0\n",
    "    while temp!=0:\n",
    "        temp,mod = divmod(temp,10)\n",
    "        ret = ret*10+mod\n",
    "    return ret*sign\n",
    "\n",
    "reverse_int(-123)"
   ]
  },
  {
   "cell_type": "markdown",
   "metadata": {},
   "source": [
    "19.设计实现遍历目录与子目录，抓取.pyc文件"
   ]
  },
  {
   "cell_type": "raw",
   "metadata": {},
   "source": [
    "os.walk()\n",
    "os.scandir()\n",
    "os.dirlist()\n",
    "glob模块\n",
    "四种方式"
   ]
  },
  {
   "cell_type": "code",
   "execution_count": null,
   "metadata": {},
   "outputs": [],
   "source": [
    "from glob import iglob\n",
    "def find_pyc(dir,suffix):\n",
    "    for file in iglob(f\"{dir}/**/*.{suffix}\",recursive=True):\n",
    "        print(file)\n",
    "\n",
    "find_pyc(\"E:\",\"pyc\")"
   ]
  },
  {
   "cell_type": "markdown",
   "metadata": {},
   "source": [
    "20.一行代码实现1-100之和"
   ]
  },
  {
   "cell_type": "code",
   "execution_count": null,
   "metadata": {},
   "outputs": [],
   "source": [
    "sum(range(1,101))"
   ]
  }
 ],
 "metadata": {
  "kernelspec": {
   "display_name": "Python 3.11.0 64-bit",
   "language": "python",
   "name": "python3"
  },
  "language_info": {
   "codemirror_mode": {
    "name": "ipython",
    "version": 3
   },
   "file_extension": ".py",
   "mimetype": "text/x-python",
   "name": "python",
   "nbconvert_exporter": "python",
   "pygments_lexer": "ipython3",
   "version": "3.11.0"
  },
  "orig_nbformat": 4,
  "vscode": {
   "interpreter": {
    "hash": "44657134f4b1bb6be40a46e2b704f983200a5e6461a65452e1a7135dd47022eb"
   }
  }
 },
 "nbformat": 4,
 "nbformat_minor": 2
}
