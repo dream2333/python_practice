{
 "cells": [
  {
   "cell_type": "markdown",
   "metadata": {},
   "source": [
    "# 自用python练习题"
   ]
  },
  {
   "cell_type": "markdown",
   "metadata": {},
   "source": [
    "1.现在要处理一个大小为10G的文件，但是内存只有4G，如果在只修改get_lines 函数而其他代码保持不变的情况下，应该如何实现？需要考虑的问题都有那些？"
   ]
  },
  {
   "cell_type": "code",
   "execution_count": 1,
   "metadata": {},
   "outputs": [
    {
     "name": "stdout",
     "output_type": "stream",
     "text": [
      "123456\n",
      "\n",
      "456789\n",
      "\n",
      "sdadasd\n"
     ]
    }
   ],
   "source": [
    "import mmap\n",
    "\n",
    "def test():\n",
    "    with open(\"test.txt\",\"r\") as f:\n",
    "        mm = mmap.mmap(f.fileno(),0,access=mmap.ACCESS_READ)\n",
    "    while mm.tell()<mm.size():\n",
    "        yield mm.readline().decode()\n",
    "    mm.close()\n",
    "\n",
    "def get_lines():\n",
    "    l = []\n",
    "    with open('test.txt','r') as f:\n",
    "      data = f.readlines(1)\n",
    "    l.append(data)\n",
    "    yield l\n",
    "    \n",
    "for i in test():    \n",
    "    print(i)"
   ]
  },
  {
   "cell_type": "markdown",
   "metadata": {},
   "source": [
    "2.设计一个函数，接收文件夹名称作为输入参数，返回文件夹中所有文件夹和文件的路径"
   ]
  },
  {
   "cell_type": "code",
   "execution_count": null,
   "metadata": {},
   "outputs": [],
   "source": [
    "def print_directory_contents(s_path):\n",
    "    \"\"\"\n",
    "    这个函数接收文件夹的名称作为输入参数\n",
    "    返回该文件夹中文件的路径\n",
    "    以及其包含文件夹中文件的路径\n",
    "    \"\"\"\n",
    "    import os\n",
    "    for s_child in os.listdir(s_path):\n",
    "        s_child_path = os.path.join(s_path, s_child)\n",
    "        if os.path.isdir(s_child_path):\n",
    "            print_directory_contents(s_child_path)\n",
    "        else:\n",
    "            print(s_child_path)\n",
    "\n",
    "print_directory_contents(\"..\")"
   ]
  },
  {
   "cell_type": "markdown",
   "metadata": {},
   "source": [
    "3.设计一个函数计算出输入日期是一年中的哪一天"
   ]
  },
  {
   "cell_type": "code",
   "execution_count": null,
   "metadata": {},
   "outputs": [],
   "source": [
    "import datetime\n",
    "\n",
    "year = int(input(\"请输入年份: \"))\n",
    "month = int(input(\"请输入月份: \"))\n",
    "day = int(input(\"请输入天: \"))\n",
    "date1 = datetime.date(year,month,day)\n",
    "date2 = datetime.date(year,1,1)\n",
    "print((date1-date2).days+1)"
   ]
  },
  {
   "cell_type": "markdown",
   "metadata": {},
   "source": [
    "4.打乱list"
   ]
  },
  {
   "cell_type": "code",
   "execution_count": null,
   "metadata": {},
   "outputs": [
    {
     "name": "stdout",
     "output_type": "stream",
     "text": [
      "[2, 1, 4, 3]\n"
     ]
    }
   ],
   "source": [
    "from random import shuffle\n",
    "l = [1,2,3,4]\n",
    "shuffle(l)\n",
    "print(l)"
   ]
  },
  {
   "cell_type": "markdown",
   "metadata": {},
   "source": [
    "5.现有字典 d= {'a':24,'g':52,'i':12,'k':33}请按value值进行排序?"
   ]
  },
  {
   "cell_type": "code",
   "execution_count": null,
   "metadata": {},
   "outputs": [
    {
     "name": "stdout",
     "output_type": "stream",
     "text": [
      "{'i': 12, 'a': 24, 'k': 33, 'g': 52}\n"
     ]
    }
   ],
   "source": [
    "d1= {'a':24,'g':52,'i':12,'k':33}\n",
    "i = sorted(d1.items(),key=lambda x:x[1])\n",
    "d2 = {k:v for k,v in i}\n",
    "print(d2)"
   ]
  },
  {
   "cell_type": "markdown",
   "metadata": {},
   "source": [
    "6.写出一个字典推导式"
   ]
  },
  {
   "cell_type": "code",
   "execution_count": null,
   "metadata": {},
   "outputs": [
    {
     "name": "stdout",
     "output_type": "stream",
     "text": [
      "{'a': 'A', 'b': 'B', 'c': 'C', 'd': 'D', 'e': 'E', 'f': 'F'}\n"
     ]
    }
   ],
   "source": [
    "d = {k:k.upper() for k in \"abcdef\"}\n",
    "print(d)"
   ]
  },
  {
   "cell_type": "markdown",
   "metadata": {},
   "source": [
    "7.请反转字符串 \"aStr\""
   ]
  },
  {
   "cell_type": "code",
   "execution_count": null,
   "metadata": {},
   "outputs": [
    {
     "name": "stdout",
     "output_type": "stream",
     "text": [
      "rtSa\n"
     ]
    }
   ],
   "source": [
    "print('aStr'[::-1])"
   ]
  },
  {
   "cell_type": "markdown",
   "metadata": {},
   "source": [
    "8.将字符串 \"k:1|k1:2|k2:3|k3:4\"，处理成字典 {k:1,k1:2,...}"
   ]
  },
  {
   "cell_type": "code",
   "execution_count": null,
   "metadata": {},
   "outputs": [
    {
     "name": "stdout",
     "output_type": "stream",
     "text": [
      "{'k': '1', 'k1': '2', 'k2': '3', 'k3': '4'}\n"
     ]
    }
   ],
   "source": [
    "_str = \"k:1|k1:2|k2:3|k3:4\"\n",
    "d = {sub.split(':')[0]:sub.split(':')[1] for sub in _str.split('|')}\n",
    "print(d)"
   ]
  },
  {
   "cell_type": "markdown",
   "metadata": {},
   "source": [
    "9.请将alist中元素的age由大到小排序"
   ]
  },
  {
   "cell_type": "code",
   "execution_count": null,
   "metadata": {},
   "outputs": [
    {
     "name": "stdout",
     "output_type": "stream",
     "text": [
      "[{'name': 'a', 'age': 20}, {'name': 'c', 'age': 25}, {'name': 'b', 'age': 30}]\n"
     ]
    }
   ],
   "source": [
    "alist = [{'name':'a','age':20},{'name':'b','age':30},{'name':'c','age':25}]\n",
    "sorted_alist  = sorted(alist,key=lambda e:e['age'])\n",
    "print(sorted_alist)"
   ]
  },
  {
   "cell_type": "markdown",
   "metadata": {},
   "source": [
    "10.下面代码的输出结果将是什么？"
   ]
  },
  {
   "cell_type": "code",
   "execution_count": null,
   "metadata": {},
   "outputs": [
    {
     "data": {
      "text/plain": [
       "[]"
      ]
     },
     "execution_count": 39,
     "metadata": {},
     "output_type": "execute_result"
    }
   ],
   "source": [
    "li = ['a','b','c','d','e']\n",
    "li[10:]\n",
    "#输出为[]"
   ]
  },
  {
   "cell_type": "markdown",
   "metadata": {},
   "source": [
    "11.写一个列表生成式，产生一个公差为11的等差数列"
   ]
  },
  {
   "cell_type": "code",
   "execution_count": null,
   "metadata": {},
   "outputs": [
    {
     "data": {
      "text/plain": [
       "[0, 11, 22, 33, 44, 55, 66, 77, 88, 99]"
      ]
     },
     "execution_count": 40,
     "metadata": {},
     "output_type": "execute_result"
    }
   ],
   "source": [
    "[i*11 for i in range(10)]"
   ]
  },
  {
   "cell_type": "markdown",
   "metadata": {},
   "source": [
    "12.给定两个列表，怎么找出他们相同的元素和不同的元素？"
   ]
  },
  {
   "cell_type": "code",
   "execution_count": null,
   "metadata": {},
   "outputs": [
    {
     "data": {
      "text/plain": [
       "({4, 5, 6}, {1, 2, 3, 7, 8, 9})"
      ]
     },
     "execution_count": 41,
     "metadata": {},
     "output_type": "execute_result"
    }
   ],
   "source": [
    "a = [1,2,3,4,5,6]\n",
    "b = [4,5,6,7,8,9]\n",
    "set(a)&set(b),set(b)^set(a)"
   ]
  },
  {
   "cell_type": "markdown",
   "metadata": {},
   "source": [
    "13.请写出一段python代码实现删除list里面的重复元素？"
   ]
  },
  {
   "cell_type": "code",
   "execution_count": null,
   "metadata": {},
   "outputs": [
    {
     "data": {
      "text/plain": [
       "[1, 2, 3, 4, 5]"
      ]
     },
     "execution_count": 1,
     "metadata": {},
     "output_type": "execute_result"
    }
   ],
   "source": [
    "a = [1,2,3,3,4,4,5]\n",
    "list(set(a))"
   ]
  },
  {
   "cell_type": "markdown",
   "metadata": {},
   "source": [
    "14.给定两个list A，B ,请用找出A，B中相同与不同的元素"
   ]
  },
  {
   "cell_type": "code",
   "execution_count": null,
   "metadata": {},
   "outputs": [
    {
     "data": {
      "text/plain": [
       "({4, 5, 6}, {1, 2, 3, 7, 8, 9})"
      ]
     },
     "execution_count": 10,
     "metadata": {},
     "output_type": "execute_result"
    }
   ],
   "source": [
    "a = [1,2,3,4,5,6]\n",
    "b = [4,5,6,7,8,9]\n",
    "set(a)&set(b),set(b)^set(a)"
   ]
  },
  {
   "cell_type": "markdown",
   "metadata": {},
   "source": [
    "15.python 新式类和经典类的区别\n"
   ]
  },
  {
   "cell_type": "raw",
   "metadata": {},
   "source": [
    "py3 只有新式类 py2 新式和旧式都有\n",
    "py2 中继承 Object 的为新式类，没继承的不是\n",
    "新式类 obj.__class__ == type(obj)\n",
    "多重继承时，新式类是广度优先搜索，旧式类是深度优先搜索"
   ]
  },
  {
   "cell_type": "markdown",
   "metadata": {},
   "source": [
    "16.python 中内置的数据结构有几种\n"
   ]
  },
  {
   "cell_type": "raw",
   "metadata": {},
   "source": [
    "int,float,complex,bool,str,list,tuple,set,dict"
   ]
  },
  {
   "cell_type": "markdown",
   "metadata": {},
   "source": [
    "17.python 如何实现单例模式?请写出两种实现方式?\n"
   ]
  },
  {
   "cell_type": "code",
   "execution_count": null,
   "metadata": {},
   "outputs": [
    {
     "data": {
      "text/plain": [
       "True"
      ]
     },
     "execution_count": 11,
     "metadata": {},
     "output_type": "execute_result"
    }
   ],
   "source": [
    "def singleton(cls):\n",
    "    instances = {}\n",
    "    def wrapper(*args,**kw):\n",
    "        if cls not in instances:\n",
    "            instances[cls] = cls(*args,**kw)\n",
    "        return instances[cls]\n",
    "    return wrapper\n",
    "\n",
    "@singleton\n",
    "class A:\n",
    "    pass\n",
    "\n",
    "A()==A()"
   ]
  },
  {
   "cell_type": "code",
   "execution_count": null,
   "metadata": {},
   "outputs": [
    {
     "data": {
      "text/plain": [
       "True"
      ]
     },
     "execution_count": 12,
     "metadata": {},
     "output_type": "execute_result"
    }
   ],
   "source": [
    "class Singleton:\n",
    "    instance = None\n",
    "    def __new__(cls,*args,**kw):\n",
    "        if not cls.instance:\n",
    "            cls.instance = super().__new__(cls,*args,**kw)\n",
    "        return cls.instance\n",
    "\n",
    "class B(Singleton):\n",
    "    pass\n",
    "\n",
    "B()==B()"
   ]
  },
  {
   "cell_type": "code",
   "execution_count": null,
   "metadata": {},
   "outputs": [
    {
     "data": {
      "text/plain": [
       "True"
      ]
     },
     "execution_count": 13,
     "metadata": {},
     "output_type": "execute_result"
    }
   ],
   "source": [
    "class Singleton(type):\n",
    "    instance = None\n",
    "    def __call__(cls,*args,**kw):\n",
    "        if not cls.instance:\n",
    "            cls.instance = super().__call__(*args,**kw)\n",
    "        return cls.instance\n",
    "    \n",
    "class C(metaclass=Singleton):\n",
    "    pass\n",
    "\n",
    "C()==C()"
   ]
  },
  {
   "cell_type": "markdown",
   "metadata": {},
   "source": [
    "18.反转一个整数，例如-123 --> -321"
   ]
  },
  {
   "cell_type": "code",
   "execution_count": null,
   "metadata": {},
   "outputs": [
    {
     "data": {
      "text/plain": [
       "-321"
      ]
     },
     "execution_count": 14,
     "metadata": {},
     "output_type": "execute_result"
    }
   ],
   "source": [
    "# 注意，python的%和divmod都是取模，并非传统数学意义上的取余\n",
    "# 取模运算的模向无限小舍入，取余运算向0舍入，因此需要先去除符号再进行取模运算\n",
    "def reverse_int(n):\n",
    "    sign = 1 if n>=0 else -1\n",
    "    temp = abs(n)\n",
    "    ret = 0\n",
    "    while temp!=0:\n",
    "        temp,mod = divmod(temp,10)\n",
    "        ret = ret*10+mod\n",
    "    return ret*sign\n",
    "\n",
    "reverse_int(-123)"
   ]
  },
  {
   "cell_type": "markdown",
   "metadata": {},
   "source": [
    "19.设计实现遍历目录与子目录，抓取.pyc文件"
   ]
  },
  {
   "cell_type": "raw",
   "metadata": {},
   "source": [
    "os.walk()\n",
    "os.scandir()\n",
    "os.dirlist()\n",
    "glob模块\n",
    "四种方式"
   ]
  },
  {
   "cell_type": "code",
   "execution_count": null,
   "metadata": {},
   "outputs": [],
   "source": [
    "from glob import iglob\n",
    "def find_pyc(dir,suffix):\n",
    "    for file in iglob(f\"{dir}/**/*.{suffix}\",recursive=True):\n",
    "        print(file)\n",
    "\n",
    "find_pyc(\"E:\",\"pyc\")"
   ]
  },
  {
   "cell_type": "markdown",
   "metadata": {},
   "source": [
    "20.一行代码实现1-100之和"
   ]
  },
  {
   "cell_type": "code",
   "execution_count": null,
   "metadata": {},
   "outputs": [
    {
     "data": {
      "text/plain": [
       "5050"
      ]
     },
     "execution_count": 6,
     "metadata": {},
     "output_type": "execute_result"
    }
   ],
   "source": [
    "sum(range(1,101))"
   ]
  },
  {
   "cell_type": "markdown",
   "metadata": {},
   "source": [
    "21.Python-遍历列表时删除元素的正确做法"
   ]
  },
  {
   "cell_type": "code",
   "execution_count": null,
   "metadata": {},
   "outputs": [
    {
     "data": {
      "text/plain": [
       "[2, 4, 6, 8]"
      ]
     },
     "execution_count": 7,
     "metadata": {},
     "output_type": "execute_result"
    }
   ],
   "source": [
    "#核心思想：迭代时不要直接操作原列表\n",
    "li = [1,2,3,4,5,6,7,8]\n",
    "new_li = filter(lambda x:x%2==0,li)\n",
    "list(new_li)"
   ]
  },
  {
   "cell_type": "markdown",
   "metadata": {},
   "source": [
    "#### 22.字符串的操作题目\n",
    "    全字母短句 PANGRAM 是包含所有英文字母的句子，比如：A QUICK BROWN FOX JUMPS OVER THE LAZY DOG. 定义并实现一个方法 get_missing_letter, 传入一个字符串采纳数，返回参数字符串变成一个 PANGRAM 中所缺失的字符。应该忽略传入字符串参数中的大小写，返回应该都是小写字符并按字母顺序排序（请忽略所有非 ACSII 字符）\n",
    "\n",
    "    下面示例是用来解释，双引号不需要考虑:\n",
    "\n",
    "    (0)输入: \"A quick brown for jumps over the lazy dog\"\n",
    "\n",
    "    返回： \"\"\n",
    "\n",
    "    (1)输入: \"A slow yellow fox crawls under the proactive dog\"\n",
    "\n",
    "    返回: \"bjkmqz\"\n",
    "\n",
    "    (2)输入: \"Lions, and tigers, and bears, oh my!\"\n",
    "\n",
    "    返回: \"cfjkpquvwxz\"\n",
    "\n",
    "    (3)输入: \"\"\n",
    "\n",
    "    返回：\"abcdefghijklmnopqrstuvwxyz\""
   ]
  },
  {
   "cell_type": "code",
   "execution_count": null,
   "metadata": {},
   "outputs": [
    {
     "data": {
      "text/plain": [
       "'bjkmqz'"
      ]
     },
     "execution_count": 10,
     "metadata": {},
     "output_type": "execute_result"
    }
   ],
   "source": [
    "def pangram(case):\n",
    "    letters = set(\"abcdefghijklmnopqrstuvwxyz\")\n",
    "    sentence = set(case.lower())\n",
    "    ret = \"\".join(sorted(letters-sentence))\n",
    "    return ret\n",
    "    \n",
    "pangram(\"A slow yellow fox crawls under the proactive dog\")"
   ]
  },
  {
   "cell_type": "markdown",
   "metadata": {},
   "source": [
    "23.可变类型和不可变类型的区别"
   ]
  },
  {
   "cell_type": "raw",
   "metadata": {},
   "source": [
    "不可变类型：int,float,complex,bool,str,tuple\n",
    "可变类型：list,dict\n",
    "不可变类型进行修改时是在内存中生成一个新的对象，可变类型则是修改原对象内容"
   ]
  },
  {
   "cell_type": "markdown",
   "metadata": {},
   "source": [
    "24.is和==有什么区别？"
   ]
  },
  {
   "cell_type": "raw",
   "metadata": {},
   "source": [
    "is是比较两个对象的id，即内存地址是否相等\n",
    "==是调用对象的eq方法比较值是否相等"
   ]
  },
  {
   "cell_type": "markdown",
   "metadata": {},
   "source": [
    "25.求出列表所有奇数并构造新列表"
   ]
  },
  {
   "cell_type": "code",
   "execution_count": null,
   "metadata": {},
   "outputs": [
    {
     "data": {
      "text/plain": [
       "[1, 3, 5, 7]"
      ]
     },
     "execution_count": 8,
     "metadata": {},
     "output_type": "execute_result"
    }
   ],
   "source": [
    "li = [1,2,3,4,5,6,7,8]\n",
    "[i for i in li if i%2==1]"
   ]
  },
  {
   "cell_type": "code",
   "execution_count": null,
   "metadata": {},
   "outputs": [
    {
     "data": {
      "text/plain": [
       "[1, 3, 5, 7]"
      ]
     },
     "execution_count": 7,
     "metadata": {},
     "output_type": "execute_result"
    }
   ],
   "source": [
    "li = [1,2,3,4,5,6,7,8]\n",
    "print(list(filter(lambda x : x%2==1,li)))"
   ]
  },
  {
   "cell_type": "markdown",
   "metadata": {},
   "source": [
    "26.用一行python代码求列表和"
   ]
  },
  {
   "cell_type": "raw",
   "metadata": {},
   "source": [
    "sum或reduce"
   ]
  },
  {
   "cell_type": "markdown",
   "metadata": {},
   "source": [
    "27.Python中变量的作用域？（变量查找顺序)"
   ]
  },
  {
   "cell_type": "raw",
   "metadata": {},
   "source": [
    "local->enclose func->global->build-in"
   ]
  },
  {
   "cell_type": "markdown",
   "metadata": {},
   "source": [
    "28.字符串 \"123\" 转换成 123，不使用内置api，例如 int()"
   ]
  },
  {
   "cell_type": "code",
   "execution_count": null,
   "metadata": {},
   "outputs": [
    {
     "data": {
      "text/plain": [
       "123"
      ]
     },
     "execution_count": 9,
     "metadata": {},
     "output_type": "execute_result"
    }
   ],
   "source": [
    "def str2int(str):\n",
    "    num = 0\n",
    "    for c in str:\n",
    "        num = num*10 + (ord(c)-ord(\"0\"))\n",
    "    return num\n",
    "\n",
    "str2int(\"123\")"
   ]
  },
  {
   "cell_type": "code",
   "execution_count": null,
   "metadata": {},
   "outputs": [
    {
     "data": {
      "text/plain": [
       "123"
      ]
     },
     "execution_count": 15,
     "metadata": {},
     "output_type": "execute_result"
    }
   ],
   "source": [
    "from functools import reduce\n",
    "reduce(lambda x,y:x*10+ord(y)-ord(\"0\"),\"123\",0)"
   ]
  },
  {
   "cell_type": "code",
   "execution_count": null,
   "metadata": {},
   "outputs": [
    {
     "data": {
      "text/plain": [
       "123"
      ]
     },
     "execution_count": 16,
     "metadata": {},
     "output_type": "execute_result"
    }
   ],
   "source": [
    "eval(\"123\")"
   ]
  },
  {
   "cell_type": "markdown",
   "metadata": {},
   "source": [
    "29.给定一个整数数组和一个目标值，找出数组中和为目标值的两个数。\n",
    "\n",
    "你可以假设每个输入只对应一种答案，且同样的元素不能被重复利用。\n",
    "\n",
    "示例:给定nums = [2,7,11,15]"
   ]
  },
  {
   "cell_type": "code",
   "execution_count": null,
   "metadata": {},
   "outputs": [
    {
     "name": "stdout",
     "output_type": "stream",
     "text": [
      "2 7\n"
     ]
    }
   ],
   "source": [
    "# 双指针解法,时间复杂度O(n)\n",
    "target = 9\n",
    "nums = [2,7,11,15]\n",
    "# 将列表变为单调序列，并声明前后两个指针位置\n",
    "temp = sorted(nums)\n",
    "pre = 0\n",
    "suf = len(temp)-1\n",
    "# 两数之和\n",
    "_sum = None\n",
    "while _sum != target:\n",
    "    _sum = temp[pre] + temp[suf]\n",
    "    if _sum>target:\n",
    "        suf-=1\n",
    "    elif _sum<target:\n",
    "        pre+=1\n",
    "        \n",
    "print(temp[pre],temp[suf])"
   ]
  },
  {
   "cell_type": "code",
   "execution_count": null,
   "metadata": {},
   "outputs": [
    {
     "name": "stdout",
     "output_type": "stream",
     "text": [
      "2 7\n"
     ]
    }
   ],
   "source": [
    "# set+in解法,时间复杂度O(1)\n",
    "target = 9\n",
    "nums = [2,7,11,15]\n",
    "temp = set(nums)\n",
    "result = None\n",
    "for i in temp:\n",
    "    if target-i in nums:\n",
    "        result = (i,target-i)\n",
    "        break\n",
    "print(*result)"
   ]
  },
  {
   "cell_type": "code",
   "execution_count": null,
   "metadata": {},
   "outputs": [
    {
     "name": "stdout",
     "output_type": "stream",
     "text": [
      "2 7\n"
     ]
    }
   ],
   "source": [
    "# dict+in解法,时间复杂度O(1)\n",
    "target = 9\n",
    "nums = [2,7,11,15]\n",
    "temp = {k:v for v,k in enumerate(nums)}\n",
    "for i in temp:\n",
    "    if target-i in temp:\n",
    "        result = (i,target-i)\n",
    "        break\n",
    "print(*result)"
   ]
  },
  {
   "cell_type": "markdown",
   "metadata": {},
   "source": [
    "30.给列表中的字典排序：假设有如下list对象\n",
    "\n",
    "alist=[{\"name\":\"a\",\"age\":20},{\"name\":\"b\",\"age\":30},{\"name\":\"c\",\"age\":25}]\n",
    "\n",
    "将alist中的元素按照age从大到小排序"
   ]
  },
  {
   "cell_type": "code",
   "execution_count": 5,
   "metadata": {},
   "outputs": [
    {
     "data": {
      "text/plain": [
       "[{'name': 'b', 'age': 30}, {'name': 'c', 'age': 25}, {'name': 'a', 'age': 20}]"
      ]
     },
     "execution_count": 5,
     "metadata": {},
     "output_type": "execute_result"
    }
   ],
   "source": [
    "alist=[{\"name\":\"a\",\"age\":20},{\"name\":\"b\",\"age\":30},{\"name\":\"c\",\"age\":25}]\n",
    "sorted(alist,key=lambda x:x['age'],reverse=True)"
   ]
  },
  {
   "cell_type": "markdown",
   "metadata": {},
   "source": [
    "31.统计一个文本中单词频次最高的3个单词"
   ]
  },
  {
   "cell_type": "code",
   "execution_count": 32,
   "metadata": {},
   "outputs": [
    {
     "data": {
      "text/plain": [
       "[('is', 4), ('better', 4), ('than', 4)]"
      ]
     },
     "execution_count": 32,
     "metadata": {},
     "output_type": "execute_result"
    }
   ],
   "source": [
    "from collections import Counter\n",
    "import re\n",
    "sentence ='Beautiful is better than ugly . Explicit is better than implicit .\\\n",
    "Simple is better than complex . Complex is better than complicated .'\n",
    "words = re.findall(\"\\w+\",sentence)\n",
    "Counter(words).most_common(3)"
   ]
  },
  {
   "cell_type": "markdown",
   "metadata": {},
   "source": [
    "32.请写出一个函数满足以下条件\n",
    "该函数的输入是一个仅包含数字的list,输出一个新的list，其中每一个元素要满足以下条件：\n",
    "\n",
    "1、该元素是偶数\n",
    "\n",
    "2、该元素在原list中是在偶数的位置(index是偶数)"
   ]
  },
  {
   "cell_type": "code",
   "execution_count": 35,
   "metadata": {},
   "outputs": [
    {
     "data": {
      "text/plain": [
       "[34, 8798, 12]"
      ]
     },
     "execution_count": 35,
     "metadata": {},
     "output_type": "execute_result"
    }
   ],
   "source": [
    "li = [233,42,34,342,765,2136,8798,8462,12,76,21]\n",
    "def get_new_seq(li:list):\n",
    "    # 最好还是用dict做，list.index效率差\n",
    "    return [i for i in li[::2] if i%2==0 ]\n",
    "get_new_seq(li)"
   ]
  },
  {
   "cell_type": "markdown",
   "metadata": {},
   "source": [
    "33.用一行代码生成[1,4,9,16,25,36,49,64,81,100]"
   ]
  },
  {
   "cell_type": "code",
   "execution_count": 38,
   "metadata": {},
   "outputs": [
    {
     "data": {
      "text/plain": [
       "[1, 4, 9, 16, 25, 36, 49, 64, 81, 100]"
      ]
     },
     "execution_count": 38,
     "metadata": {},
     "output_type": "execute_result"
    }
   ],
   "source": [
    "[i**2 for i in range(1,11)]"
   ]
  },
  {
   "cell_type": "markdown",
   "metadata": {},
   "source": [
    "34.两个有序列表，l1,l2，对这两个列表进行合并不可使用extend"
   ]
  },
  {
   "cell_type": "code",
   "execution_count": 40,
   "metadata": {},
   "outputs": [
    {
     "data": {
      "text/plain": [
       "[0, 1, 2, 3, 4, 5, 6, 7, 8, 9, 10, 11, 12, 13, 14, 15, 16, 17, 18, 19]"
      ]
     },
     "execution_count": 40,
     "metadata": {},
     "output_type": "execute_result"
    }
   ],
   "source": [
    "l1 = list(range(10))\n",
    "l2 = list(range(10,20))\n",
    "l1+l2"
   ]
  },
  {
   "cell_type": "code",
   "execution_count": 41,
   "metadata": {},
   "outputs": [
    {
     "data": {
      "text/plain": [
       "[0, 1, 2, 3, 4, 5, 6, 7, 8, 9, 10, 11, 12, 13, 14, 15, 16, 17, 18, 19]"
      ]
     },
     "execution_count": 41,
     "metadata": {},
     "output_type": "execute_result"
    }
   ],
   "source": [
    "l1 = list(range(10))\n",
    "l2 = list(range(10,20))\n",
    "[*l1,*l2]"
   ]
  },
  {
   "cell_type": "code",
   "execution_count": 43,
   "metadata": {},
   "outputs": [
    {
     "data": {
      "text/plain": [
       "[0, 1, 2, 3, 4, 5, 6, 7, 8, 9, 10, 11, 12, 13, 14, 15, 16, 17, 18, 19]"
      ]
     },
     "execution_count": 43,
     "metadata": {},
     "output_type": "execute_result"
    }
   ],
   "source": [
    "from itertools import chain\n",
    "l1 = list(range(10))\n",
    "l2 = list(range(10,20))\n",
    "list(chain(l1,l2))"
   ]
  },
  {
   "cell_type": "markdown",
   "metadata": {},
   "source": [
    "35.给定一个任意长度数组，实现一个函数\n",
    "\n",
    "让所有奇数都在偶数前面，而且奇数升序排列，偶数降序排序，如字符串'1982376455',变成'1355798642'"
   ]
  },
  {
   "cell_type": "code",
   "execution_count": 86,
   "metadata": {},
   "outputs": [
    {
     "data": {
      "text/plain": [
       "['1', '3', '5', '5', '7', '9', '8', '6', '4', '2']"
      ]
     },
     "execution_count": 86,
     "metadata": {},
     "output_type": "execute_result"
    }
   ],
   "source": [
    "li = '1982376455'\n",
    "odds = sorted(filter(lambda x:int(x)%2==1,li))\n",
    "evens = sorted(filter(lambda x:int(x)%2==0,li),reverse=True)\n",
    "[*odds,*evens]"
   ]
  },
  {
   "cell_type": "code",
   "execution_count": 90,
   "metadata": {},
   "outputs": [
    {
     "data": {
      "text/plain": [
       "['1', '3', '5', '5', '7', '9', '8', '6', '4', '2']"
      ]
     },
     "execution_count": 90,
     "metadata": {},
     "output_type": "execute_result"
    }
   ],
   "source": [
    "li = '1982376455'\n",
    "sorted(li,key=lambda x:int(x) if int(x)%2 else 20-int(x))"
   ]
  },
  {
   "cell_type": "markdown",
   "metadata": {},
   "source": [
    "36.找出一个整数数组中，第二大的数"
   ]
  },
  {
   "cell_type": "code",
   "execution_count": 91,
   "metadata": {},
   "outputs": [
    {
     "data": {
      "text/plain": [
       "8"
      ]
     },
     "execution_count": 91,
     "metadata": {},
     "output_type": "execute_result"
    }
   ],
   "source": [
    "li = list(range(10))\n",
    "sorted(li,reverse=True)[1]"
   ]
  },
  {
   "cell_type": "code",
   "execution_count": 94,
   "metadata": {},
   "outputs": [
    {
     "data": {
      "text/plain": [
       "(8, 9)"
      ]
     },
     "execution_count": 94,
     "metadata": {},
     "output_type": "execute_result"
    }
   ],
   "source": [
    "from functools import reduce\n",
    "li = list(range(10))\n",
    "reduce(lambda ot, x: ot[1] < x and (ot[1], x) or ot[0] < x and (x, ot[1]) or ot, li, (0, 0))[0]"
   ]
  },
  {
   "cell_type": "markdown",
   "metadata": {},
   "source": [
    "37.阅读一下代码他们的输出结果是什么？"
   ]
  },
  {
   "cell_type": "code",
   "execution_count": 95,
   "metadata": {},
   "outputs": [
    {
     "name": "stdout",
     "output_type": "stream",
     "text": [
      "[9, 9, 9, 9]\n"
     ]
    }
   ],
   "source": [
    "def multi():\n",
    "    return [lambda x : i*x for i in range(4)]\n",
    "print([m(3) for m in multi()])\n",
    "\n",
    "# 由于i的命名空间在enclosed function，并没有在闭包函数lambda的local作用域\n",
    "# 因此执行lambda的时候，实际上获取的是i的最新值\n",
    "# 结果为[9,9,9,9]"
   ]
  },
  {
   "cell_type": "markdown",
   "metadata": {},
   "source": [
    "38.统计一段字符串中字符出现的次数"
   ]
  },
  {
   "cell_type": "code",
   "execution_count": 1,
   "metadata": {},
   "outputs": [
    {
     "data": {
      "text/plain": [
       "Counter({'A': 3, 'b': 3, 's': 2, 'd': 5, 'a': 1})"
      ]
     },
     "execution_count": 1,
     "metadata": {},
     "output_type": "execute_result"
    }
   ],
   "source": [
    "from collections import Counter\n",
    "Counter(\"AAAbbbsdsadddd\")"
   ]
  }
 ],
 "metadata": {
  "kernelspec": {
   "display_name": "Python 3.11.0 64-bit",
   "language": "python",
   "name": "python3"
  },
  "language_info": {
   "codemirror_mode": {
    "name": "ipython",
    "version": 3
   },
   "file_extension": ".py",
   "mimetype": "text/x-python",
   "name": "python",
   "nbconvert_exporter": "python",
   "pygments_lexer": "ipython3",
   "version": "3.11.0"
  },
  "orig_nbformat": 4,
  "vscode": {
   "interpreter": {
    "hash": "44657134f4b1bb6be40a46e2b704f983200a5e6461a65452e1a7135dd47022eb"
   }
  }
 },
 "nbformat": 4,
 "nbformat_minor": 2
}
